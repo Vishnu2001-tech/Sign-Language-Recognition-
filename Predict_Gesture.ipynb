{
  "nbformat": 4,
  "nbformat_minor": 0,
  "metadata": {
    "colab": {
      "name": "Predict_Gesture.ipynb",
      "provenance": [],
      "authorship_tag": "ABX9TyPZQwlQYSrcOAyf/my3uKOa"
    },
    "kernelspec": {
      "name": "python3",
      "display_name": "Python 3"
    },
    "language_info": {
      "name": "python"
    }
  },
  "cells": [
    {
      "cell_type": "code",
      "metadata": {
        "id": "hfIS3SDhQABN"
      },
      "source": [
        "import numpy as np\n",
        "import cv2\n",
        "import keras\n",
        "from keras.preprocessing.image import ImageDataGenerator\n",
        "import tensorflow as tf"
      ],
      "execution_count": null,
      "outputs": []
    },
    {
      "cell_type": "code",
      "metadata": {
        "id": "uOOBNtuzQGCb"
      },
      "source": [
        "model = keras.models.load_model(r\"C:\\Users\\abhij\\best_model_dataflair3.h5\")\n",
        "background = None\n",
        "accumulated_weight = 0.5\n",
        "ROI_top = 100\n",
        "ROI_bottom = 300\n",
        "ROI_right = 150\n",
        "ROI_left = 350"
      ],
      "execution_count": null,
      "outputs": []
    },
    {
      "cell_type": "code",
      "metadata": {
        "id": "rCJWTg8WQHkj"
      },
      "source": [
        "def cal_accum_avg(frame, accumulated_weight):\n",
        "    global background\n",
        "    \n",
        "    if background is None:\n",
        "        background = frame.copy().astype(\"float\")\n",
        "        return None\n",
        "    cv2.accumulateWeighted(frame, background, accumulated_weight)\n"
      ],
      "execution_count": null,
      "outputs": []
    },
    {
      "cell_type": "code",
      "metadata": {
        "id": "lTUPoLDqQJe0"
      },
      "source": [
        "def segment_hand(frame, threshold=25):\n",
        "    global background\n",
        "    \n",
        "    diff = cv2.absdiff(background.astype(\"uint8\"), frame)\n",
        "    \n",
        "_ , thresholded = cv2.threshold(diff, threshold, 255,\n",
        "cv2.THRESH_BINARY)\n",
        "    \n",
        "     #Fetching contours in the frame (These contours can be of hand\n",
        "or any other object in foreground) …\n",
        "    image, contours, hierarchy =\n",
        "    cv2.findContours(thresholded.copy(), cv2.RETR_EXTERNAL,\n",
        "    cv2.CHAIN_APPROX_SIMPLE)\n",
        "    # If length of contours list = 0, means we didn't get any\n",
        "    contours...\n",
        "    if len(contours) == 0:\n",
        "        return None\n",
        "    else:\n",
        "        # The largest external contour should be the hand \n",
        "        hand_segment_max_cont = max(contours, key=cv2.contourArea)\n",
        "        \n",
        "        # Returning the hand segment(max contour) and the\n",
        "  thresholded image of hand...\n",
        "        return (thresholded, hand_segment_max_cont)"
      ],
      "execution_count": null,
      "outputs": []
    },
    {
      "cell_type": "code",
      "metadata": {
        "id": "NpJ7fFaGQM26"
      },
      "source": [
        "cam = cv2.VideoCapture(0)\n",
        "num_frames =0\n",
        "while True:\n",
        "    ret, frame = cam.read()\n",
        "    # flipping the frame to prevent inverted image of captured\n",
        "    frame...\n",
        "    \n",
        "    frame = cv2.flip(frame, 1)\n",
        "    frame_copy = frame.copy()\n",
        "    # ROI from the frame\n",
        "    roi = frame[ROI_top:ROI_bottom, ROI_right:ROI_left]\n",
        "    gray_frame = cv2.cvtColor(roi, cv2.COLOR_BGR2GRAY)\n",
        "    gray_frame = cv2.GaussianBlur(gray_frame, (9, 9), 0)\n",
        "    if num_frames < 70:\n",
        "        \n",
        "        cal_accum_avg(gray_frame, accumulated_weight)\n",
        "        \n",
        "        cv2.putText(frame_copy, \"FETCHING BACKGROUND...PLEASE WAIT\",\n",
        "  (80, 400), cv2.FONT_HERSHEY_SIMPLEX, 0.9, (0,0,255), 2)\n",
        "    \n",
        "    else: \n",
        "        # segmenting the hand region\n",
        "        hand = segment_hand(gray_frame)\n",
        "        \n",
        "        # Checking if we are able to detect the hand...\n",
        "        if hand is not None:\n",
        "            \n",
        "            thresholded, hand_segment = hand\n",
        "            # Drawing contours around hand segment\n",
        "            cv2.drawContours(frame_copy, [hand_segment + (ROI_right,\n",
        "      ROI_top)], -1, (255, 0, 0),1)\n",
        "            \n",
        "            cv2.imshow(\"Thesholded Hand Image\", thresholded)\n",
        "            \n",
        "            thresholded = cv2.resize(thresholded, (64, 64))\n",
        "            thresholded = cv2.cvtColor(thresholded,\n",
        " cv2.COLOR_GRAY2RGB)\n",
        "            thresholded = np.reshape(thresholded,\n",
        "(1,thresholded.shape[0],thresholded.shape[1],3))\n",
        "            \n",
        "            pred = model.predict(thresholded)\n",
        "            cv2.putText(frame_copy, word_dict[np.argmax(pred)],\n",
        "(170, 45), cv2.FONT_HERSHEY_SIMPLEX, 1, (0,0,255), 2)\n",
        "            \n",
        "    # Draw ROI on frame_copy\n",
        "    cv2.rectangle(frame_copy, (ROI_left, ROI_top), (ROI_right,\n",
        "    ROI_bottom), (255,128,0), 3)\n",
        "    # incrementing the number of frames for tracking\n",
        "    num_frames += 1\n",
        "    # Display the frame with segmented hand\n",
        "    cv2.putText(frame_copy, \" Hand sign recognition_ _ _\",\n",
        "    (10, 20), cv2.FONT_ITALIC, 0.5, (51,255,51), 1)\n",
        "    cv2.imshow(\"Sign Detection\", frame_copy)\n",
        "    # Close windows with Esc\n",
        "    k = cv2.waitKey(1) & 0xFF\n",
        "    if k == 27:\n",
        "        break\n",
        "# Release the camera and destroy all the windows\n",
        "cam.release()\n",
        "cv2.destroyAllWindows()"
      ],
      "execution_count": null,
      "outputs": []
    }
  ]
}